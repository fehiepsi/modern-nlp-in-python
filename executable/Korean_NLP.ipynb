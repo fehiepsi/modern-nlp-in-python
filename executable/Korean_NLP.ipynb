{
 "cells": [
  {
   "cell_type": "markdown",
   "metadata": {},
   "source": [
    "Source: https://www.lucypark.kr/courses/2015-ba/text-mining and https://www.lucypark.kr/slides/2015-pyconkr."
   ]
  },
  {
   "cell_type": "markdown",
   "metadata": {
    "collapsed": true,
    "heading_collapsed": true
   },
   "source": [
    "# Mining Korean text with Python"
   ]
  },
  {
   "cell_type": "markdown",
   "metadata": {
    "heading_collapsed": true,
    "hidden": true
   },
   "source": [
    "## Text exploration"
   ]
  },
  {
   "cell_type": "code",
   "execution_count": 1,
   "metadata": {
    "collapsed": false,
    "hidden": true
   },
   "outputs": [],
   "source": [
    "# Read document\n",
    "from konlpy.corpus import kobill    # Docs from pokr.kr/bill\n",
    "files_ko = kobill.fileids()         # Get file ids\n",
    "doc_ko = kobill.open(\"1809890.txt\").read()"
   ]
  },
  {
   "cell_type": "code",
   "execution_count": 2,
   "metadata": {
    "collapsed": false,
    "hidden": true
   },
   "outputs": [
    {
     "name": "stdout",
     "output_type": "stream",
     "text": [
      "지방공무원법 일부개정법률안\n",
      "\n",
      "(정의화의원 대표발의 )\n",
      "\n",
      " 의 안\n",
      " 번 호\n",
      "\n",
      "9890\n",
      "\n",
      "발의연월일 : 2010.  11.  12.  \n",
      "\n",
      "발  의  자 : 정의화․이명수․김을동 \n",
      "\n",
      "이사철․여상규․안규백\n",
      "\n",
      "황영철․박영아․김정훈\n",
      "\n",
      "김학송 의원(10인)\n",
      "\n",
      "제안이유 및 주요내용\n",
      "\n",
      "  초등학교 저학년의 경우에도 부모의 따뜻한 사랑과 보살핌이 필요\n",
      "\n",
      "한 나이이나, 현재 공무원이 자녀를 양육하기 위하여 육아휴직을 할 \n",
      "\n",
      "수 있는 자녀의 나이는 만 6세 이하로 되어 있어 초등학교 저학년인 \n",
      "\n",
      "자녀를 돌보기 위해서는 해당 부모님은 일자리를 그만 두어야 하고 \n",
      "\n",
      "이는 곧 출산의욕을 저하시키는 문제로 이어질 수 있을 것임.\n",
      "\n",
      "  따라서 육아휴직이 가능한 자녀의 연령을 만 8세 이하로 개정하려\n",
      "\n",
      "는 것임(안 제63조제2항제4호).\n",
      "\n",
      "- 1 -\n",
      "\n",
      "\f",
      "법률  제        호\n",
      "\n",
      "지방공무원법 일부개정법률안\n",
      "\n",
      "지방공무원법 일부를 다음과 같이 개정한다.\n",
      "\n",
      "제63조제2항제4호 중 “만 6세 이하의 초등학교 취학 전 자녀를”을 “만 \n",
      "\n",
      "8세 이하(취학 중인 경우에는 초등학교 2학년 이하를 말한다)의 자녀를”\n",
      "\n",
      "로 한다.\n",
      "\n",
      "부      칙\n",
      "\n",
      "이 법은 공포한 날부터 시행한다.\n",
      "\n",
      "- 3 -\n",
      "\n",
      "\f",
      "신 ·구조문대비표\n",
      "\n",
      "현      행\n",
      "\n",
      "개   정   안\n",
      "\n",
      "제63조(휴직) ① (생  략)\n",
      "\n",
      "제63조(휴직) ① (현행과 같음)\n",
      "\n",
      "  ② 공무원이 다음 각 호의 어\n",
      "\n",
      "  ② -------------------------\n",
      "\n",
      "느 하나에 해당하는 사유로 휴\n",
      "\n",
      "----------------------------\n",
      "\n",
      "직을 원하면 임용권자는 휴직\n",
      "\n",
      "----------------------------\n",
      "\n",
      "을 명할 수 있다. 다만, 제4호\n",
      "\n",
      "-------------.---------------\n",
      "\n",
      "의 경우에는 대통령령으로 정\n",
      "\n",
      "----------------------------\n",
      "\n",
      "하는 특별한 사정이 없으면 휴\n",
      "\n",
      "----------------------------\n",
      "\n",
      "직을 명하여야 한다.\n",
      "\n",
      "--------------.\n",
      "\n",
      "  1. ∼ 3. (생  략)\n",
      "\n",
      "  1. ∼ 3. (현행과 같음)\n",
      "\n",
      "  4. 만 6세 이하의 초등학교 취\n",
      "\n",
      "  4. 만 8세 이하(취학 중인 경우\n",
      "\n",
      "학 전 자녀를 양육하기 위하\n",
      "\n",
      "에는 초등학교 2학년 이하를 \n",
      "\n",
      "여 필요하거나 여자공무원이 \n",
      "\n",
      "말한다)의 자녀를 ----------\n",
      "\n",
      "임신 또는 출산하게 되었을 \n",
      "\n",
      "---------------------------\n",
      "\n",
      "때\n",
      "\n",
      "---------------------------\n",
      "\n",
      "  5.⋅6. (생  략)\n",
      "\n",
      "  ③⋅④ (생  략)\n",
      "\n",
      "--------\n",
      "\n",
      "  5.⋅6. (현행과 같음)\n",
      "\n",
      "  ③⋅④ (현행과 같음)\n",
      "\n",
      "- 5 -\n",
      "\n",
      "\f",
      "지방공무원법 일부개정법률안 등 비용추계서 미첨부사유서\n",
      "1.  재정수반요인\n",
      "\n",
      "개정안에서 ｢국가공무원법｣  제71조제2항제4호 중 국가공무원의 육아\n",
      "\n",
      "휴직 가능 자녀의 연령을 만6세 이하에서 만8세 이하로 하고, ｢지방공\n",
      "\n",
      "무원법｣ 제63조제2항제4호 중 지방공무원의 육아휴직 가능 자녀의 연\n",
      "\n",
      "령을 만6세 이하에서 만8세 이하로 하고, ｢교육공무원법｣ 제44조제1항\n",
      "\n",
      "제7조 중 교육공무원의 육아휴직 가능 자녀의 연령을 만6세 이하에서 \n",
      "\n",
      "만8세 이하로 하고, ｢남녀고용평등과 일․가정 양립지원에 관한 법률｣ \n",
      "\n",
      "제19조제1항 중 근로자 육아휴직 가능 자녀연령을 만6세 이하에서 만\n",
      "\n",
      "8세 이하로 조정함에 따라 추가 재정소요가 예상됨.\n",
      "\n",
      "2.  미첨부  근거  규정\n",
      "｢의안의 비용추계에 관한 규칙｣ 제3조제1항 단서 중 제1호(예상되는 비용이 연평균  10억원 미만\n",
      "이거나  한시적인  경비로서  총  30억원  미만인  경우)에  해당함.\n",
      "\n",
      "3.  미첨부  사유\n",
      "\n",
      "개정안에서 국가․지방․교육공무원 및 근로자가 육아휴직을 신청할 \n",
      "\n",
      "수 있는 자녀의 연령을 만6세 이하에서 만8세 이하로 상향조정함에 \n",
      "\n",
      "따라 추가 재정소요가 예상된다. 동 법률 개정안이 2011년에 시행된다\n",
      "\n",
      "고 가정한 경우, 2010년 현재 자녀의 연령이 7세이고 육아휴직을 신청\n",
      "\n",
      "- 7 -\n",
      "\n",
      "\f",
      "- 8 -\n",
      "\n",
      "하지 않은 국가․지방․교육공무원 및 근로자가 대상이 된다.\n",
      "\n",
      "대상연령의 확대됨에 따라 육아휴직신청자의 수가 어느 정도 늘어날 \n",
      "\n",
      "것으로 예상된다. 이 경우 발생하는 비용은 현행법에 따르면 월50만원\n",
      "\n",
      "이나 현재 관련법령 개정이 추진되고 있으며, 이에 따라 2011년에는 \n",
      "\n",
      "육아휴직자가 지급받는 월급여액에 비례하여 육아휴직급여가 지급되\n",
      "\n",
      "기 때문에 법령개정을 가정하고 추계한다. 이러한 경우 육아휴직급여\n",
      "\n",
      "액은 육아휴직자가 지급받는 월급여의 40%에 해당한다. 육아휴직자가 \n",
      "\n",
      "발생한 경우 발생하는 비용은 대체인력 고용인건비와 육아휴직자가 \n",
      "\n",
      "받는 월급여액의 40%이다. 이와 대비하여 육아휴직자에게 지급하던 \n",
      "\n",
      "임금은 더 이상 발생하지 않는다. 따라서 실제 발생하는 순비용은 육\n",
      "\n",
      "아휴직자에게 지급하던 월 급여액과 연령 확대에 따라 발생하는 비용\n",
      "\n",
      "인 육아휴직자가 받던 월급여액의 40%와 대체인력 고용인건비의 차\n",
      "\n",
      "액인데 이 값이 0보다 크면 추가 재정소요는 발생하지 않는다고 볼 \n",
      "\n",
      "수 있다.\n",
      "\n",
      "추가비용 발생여부를 정확하게 알아보기 위하여 비용에 대한 수리모\n",
      "\n",
      "델을 만들고 이에 따라 비용발생 여부를 알아보기로 하자. 모델에 사\n",
      "\n",
      "용되는 변수를 다음과 같이 정의한다.\n",
      "\n",
      "발생비용 : N×p×X + N×육아휴직급여액 - N×P\n",
      "\n",
      "N\n",
      "\n",
      "P\n",
      "\n",
      ": 육아휴직대상자의 수\n",
      "\n",
      ": 육아휴직대상자의 월급여액\n",
      "\n",
      "\f",
      "p\n",
      "\n",
      "X\n",
      "\n",
      ": 육아휴직자가 발생한 경우 대체 고용할 확률\n",
      "\n",
      ": 대체 고용한 인력에게 지급하는 월급여액\n",
      "\n",
      "위의 수식에서 육아휴직급여액은 육아휴직자 월급여액의 40%까지 지\n",
      "\n",
      "급할 예정이므로 육아휴직급여액은 P×40%이다. 육아휴직자가 발생한 \n",
      "\n",
      "경우 대체 고용할 확률 p는 고용노동부의 육아휴직 관련 자료를 이용\n",
      "\n",
      "한다. 고용노동부에 따르면 2011년의 경우 육아휴직급여 대상자는 \n",
      "\n",
      "40,923명이며, 육아휴직에 따른 대체인력 고용 예상인원은 2,836명이\n",
      "\n",
      "다. 2007년부터 2011년까지의 현황을 정리하면 다음의 [표]와 같다.\n",
      "\n",
      "[표]  육아휴직급여  수급자의  수  및  대체인력  고용  현황:  2007~2011년\n",
      "\n",
      "(단위:  명,  % )\n",
      "\n",
      "2007\n",
      "\n",
      "2008\n",
      "\n",
      "2009\n",
      "\n",
      "2010\n",
      "\n",
      "2011\n",
      "\n",
      "평균\n",
      "\n",
      "육아휴직급여  수급자(A)\n",
      "\n",
      "21,185\n",
      "\n",
      "29,145\n",
      "\n",
      "35,400\n",
      "\n",
      "41,291\n",
      "\n",
      "43,899\n",
      "\n",
      "34,184\n",
      "\n",
      "대체인력  채용(B)\n",
      "\n",
      "796\n",
      "\n",
      "1,658\n",
      "\n",
      "1,957\n",
      "\n",
      "2,396\n",
      "\n",
      "2,836\n",
      "\n",
      "1,929\n",
      "\n",
      "비  율(B/A)\n",
      "\n",
      "3.8\n",
      "\n",
      "5.7\n",
      "\n",
      "5.5\n",
      "\n",
      "5.8\n",
      "\n",
      "6.5\n",
      "\n",
      "5.6\n",
      "\n",
      "자료: 고용노동부  자료를  바탕으로  국회예산정책처  작성\n",
      "\n",
      "위의 [표]의 자료에 따라 육아휴직자가 발생한 경우 대체 고용할 확률 \n",
      "\n",
      "p의 값은 5.6%라고 가정한다. 그리고 비용이 발생한다고 가정하여 위\n",
      "\n",
      "의 수식을 다시 작성하면 다음의 수식과 같다.\n",
      "\n",
      "N×p×X + N×육아휴직급여액 - N×P > 0\n",
      "\n",
      "(1)\n",
      "\n",
      "- 9 -\n",
      "\n",
      "\f",
      "- 10 -\n",
      "\n",
      "N×5.6%×X + N×P×40% - N×P > 0\n",
      "\n",
      "0.056×X > 0.6P\n",
      "\n",
      "X > 10.7×P\n",
      "\n",
      "(2)\n",
      "\n",
      "(3)\n",
      "\n",
      "(5)\n",
      "\n",
      "위의 수식에 육아휴직자가 받는 월 급여액을 대입하여 대체고용인력\n",
      "\n",
      "자에게 지급하는 월 급여액을 추정하여 보자. 육아휴직자가 월 200만\n",
      "\n",
      "원을 받는다고 가정하면, 대체고용인력자에게 육아휴직자가 받는 월 \n",
      "\n",
      "급여액의 10.7배에 달하는 월 21,428,571원 이상을 지급해야 추가 비용\n",
      "\n",
      "이 발생한다. 대체고용인력자에게 육아휴직자보다 더 많은 월급여액을 \n",
      "\n",
      "주지는 않을 것이고 그리고 10여배 이상 월급을 주지도 않을 것이기 \n",
      "\n",
      "때문에 추가 비용이 발생한다고 보기 힘들다. 위의 수식에서 대체인력 \n",
      "\n",
      "고용확률 p를 20%로 가정하더라도(이 경우 X > 3×P) 200만원 받는 \n",
      "\n",
      "육아휴직자 대체인력에게 월 600만원 이상을 지급해야 추가 비용이 \n",
      "\n",
      "발생한다.\n",
      "\n",
      "행정안전부의 통계자료(행정안전부 통계연감)에서는 지방공무원의 육\n",
      "\n",
      "아휴직 현황자료를 보여주고 있다. 여기서 육아휴직자가 발생한 경우 \n",
      "\n",
      "대체인력을 주로 임용대기자 또는 일용직을 활용하는 것으로 보인다. \n",
      "\n",
      "따라서 공무원의 경우에도 [표]에서 보여주는 일반기업체의 대체인력 \n",
      "\n",
      "고용확률과 차이는 크지 않을 것으로 보인다.\n",
      "\n",
      "이상의 논의를 바탕으로 육아휴직기간을 만6에서 만8세로 연장하더라\n",
      "\n",
      "도 법률 개정에 따른 추가 비용은 발생하지 않을 것으로 예상된다.\n",
      "\n",
      "\f",
      "4.  작성자\n",
      "\n",
      "국회예산정책처 법안비용추계1팀\n",
      "\n",
      "팀      장   정 문 종\n",
      "\n",
      "예산분석관   김 태 완\n",
      "\n",
      "(02-788-4649, tanzania@assembly.go.kr)\n",
      "\n",
      "- 11 -\n",
      "\n",
      "\f",
      "\n"
     ]
    }
   ],
   "source": [
    "print(doc_ko)"
   ]
  },
  {
   "cell_type": "code",
   "execution_count": 3,
   "metadata": {
    "collapsed": false,
    "hidden": true
   },
   "outputs": [],
   "source": [
    "# Tokenize\n",
    "from konlpy.tag import Twitter; t = Twitter()\n",
    "tokens_ko = t.morphs(doc_ko)"
   ]
  },
  {
   "cell_type": "code",
   "execution_count": 4,
   "metadata": {
    "collapsed": true,
    "hidden": true
   },
   "outputs": [],
   "source": [
    "# Load tokens with nltk.Text()\n",
    "import nltk\n",
    "# For Python 2, input `name` as u'유니코드'\n",
    "ko = nltk.Text(tokens_ko, name=\"대한민국 국회 의안 제 1809890호\")"
   ]
  },
  {
   "cell_type": "code",
   "execution_count": 5,
   "metadata": {
    "collapsed": false,
    "hidden": true
   },
   "outputs": [
    {
     "name": "stdout",
     "output_type": "stream",
     "text": [
      "1707\n",
      "476\n"
     ]
    },
    {
     "data": {
      "text/plain": [
       "FreqDist({'%': 10,\n",
       "          '(': 27,\n",
       "          ')': 26,\n",
       "          ').': 1,\n",
       "          '+': 3,\n",
       "          ',': 26,\n",
       "          '-': 21,\n",
       "          '--------': 1,\n",
       "          '----------': 1,\n",
       "          '-------------------------': 1,\n",
       "          '---------------------------': 2,\n",
       "          '----------------------------': 4,\n",
       "          '--------------.': 1,\n",
       "          '-------------.---------------': 1,\n",
       "          '.': 61,\n",
       "          '/': 1,\n",
       "          '0': 5,\n",
       "          '02': 1,\n",
       "          '056': 1,\n",
       "          '1': 13,\n",
       "          '10': 6,\n",
       "          '11': 2,\n",
       "          '12': 1,\n",
       "          '145': 1,\n",
       "          '184': 1,\n",
       "          '185': 1,\n",
       "          '19': 1,\n",
       "          '2': 11,\n",
       "          '20': 1,\n",
       "          '200': 2,\n",
       "          '2007': 3,\n",
       "          '2008': 1,\n",
       "          '2009': 1,\n",
       "          '2010': 3,\n",
       "          '2011': 6,\n",
       "          '21': 2,\n",
       "          '29': 1,\n",
       "          '291': 1,\n",
       "          '3': 8,\n",
       "          '30': 1,\n",
       "          '34': 1,\n",
       "          '35': 1,\n",
       "          '396': 1,\n",
       "          '4': 8,\n",
       "          '40': 7,\n",
       "          '400': 1,\n",
       "          '41': 1,\n",
       "          '428': 1,\n",
       "          '43': 1,\n",
       "          '44': 1,\n",
       "          '4649': 1,\n",
       "          '5': 12,\n",
       "          '50': 1,\n",
       "          '571': 1,\n",
       "          '6': 16,\n",
       "          '600': 1,\n",
       "          '63': 5,\n",
       "          '658': 1,\n",
       "          '7': 6,\n",
       "          '71': 1,\n",
       "          '788': 1,\n",
       "          '796': 1,\n",
       "          '8': 12,\n",
       "          '836': 2,\n",
       "          '899': 1,\n",
       "          '9': 1,\n",
       "          '923': 1,\n",
       "          '929': 1,\n",
       "          '957': 1,\n",
       "          '9890': 1,\n",
       "          ':': 10,\n",
       "          '>': 5,\n",
       "          'A': 2,\n",
       "          'B': 2,\n",
       "          'N': 10,\n",
       "          'P': 9,\n",
       "          'X': 7,\n",
       "          '[': 4,\n",
       "          ']': 4,\n",
       "          'p': 6,\n",
       "          'tanzania@assembly.go.kr': 1,\n",
       "          '~': 1,\n",
       "          '·': 1,\n",
       "          '×': 17,\n",
       "          '“': 2,\n",
       "          '”': 2,\n",
       "          '․': 11,\n",
       "          '∼': 2,\n",
       "          '⋅': 2,\n",
       "          '①': 2,\n",
       "          '②': 2,\n",
       "          '③⋅④': 2,\n",
       "          '가': 16,\n",
       "          '가능': 4,\n",
       "          '가능한': 1,\n",
       "          '가정': 7,\n",
       "          '각': 1,\n",
       "          '값': 2,\n",
       "          '같': 4,\n",
       "          '같다': 2,\n",
       "          '같이': 2,\n",
       "          '개': 1,\n",
       "          '개정': 8,\n",
       "          '개정안': 3,\n",
       "          '거나': 1,\n",
       "          '것': 6,\n",
       "          '것임': 2,\n",
       "          '경비': 1,\n",
       "          '경우': 16,\n",
       "          '고': 5,\n",
       "          '고용': 14,\n",
       "          '고용노동부': 3,\n",
       "          '곧': 1,\n",
       "          '공': 1,\n",
       "          '공무원': 10,\n",
       "          '공포': 1,\n",
       "          '과': 11,\n",
       "          '관련': 2,\n",
       "          '관한': 2,\n",
       "          '교육': 4,\n",
       "          '구조': 1,\n",
       "          '국가': 2,\n",
       "          '국가공무원': 2,\n",
       "          '국회예산정책처': 2,\n",
       "          '권': 1,\n",
       "          '규정': 1,\n",
       "          '규칙': 1,\n",
       "          '그리고': 2,\n",
       "          '그만': 1,\n",
       "          '근거': 1,\n",
       "          '근로자': 3,\n",
       "          '급': 5,\n",
       "          '급여': 8,\n",
       "          '급할': 1,\n",
       "          '기': 1,\n",
       "          '기간': 1,\n",
       "          '기업체': 1,\n",
       "          '기자': 1,\n",
       "          '김': 1,\n",
       "          '김을동': 1,\n",
       "          '김정훈': 1,\n",
       "          '김학송': 1,\n",
       "          '까지': 1,\n",
       "          '까지의': 1,\n",
       "          '나': 1,\n",
       "          '나이': 2,\n",
       "          '날': 1,\n",
       "          '남녀': 1,\n",
       "          '내용': 1,\n",
       "          '년': 7,\n",
       "          '논의': 1,\n",
       "          '느': 1,\n",
       "          '는': 10,\n",
       "          '늘어날': 1,\n",
       "          '다': 23,\n",
       "          '다고': 4,\n",
       "          '다만': 1,\n",
       "          '다시': 1,\n",
       "          '다음': 5,\n",
       "          '단서': 1,\n",
       "          '단위': 1,\n",
       "          '달': 1,\n",
       "          '대': 1,\n",
       "          '대비하여': 1,\n",
       "          '대상': 2,\n",
       "          '대상자': 3,\n",
       "          '대입': 1,\n",
       "          '대체': 16,\n",
       "          '대통령령': 1,\n",
       "          '대표': 1,\n",
       "          '대한': 1,\n",
       "          '더': 2,\n",
       "          '델': 1,\n",
       "          '도': 2,\n",
       "          '돌보기': 1,\n",
       "          '동': 1,\n",
       "          '되': 2,\n",
       "          '되는': 1,\n",
       "          '되어': 1,\n",
       "          '되었': 1,\n",
       "          '된': 2,\n",
       "          '두어': 1,\n",
       "          '등': 1,\n",
       "          '따뜻한': 1,\n",
       "          '따라': 7,\n",
       "          '따라서': 3,\n",
       "          '따르': 2,\n",
       "          '따른': 2,\n",
       "          '때': 1,\n",
       "          '때문': 2,\n",
       "          '또는': 2,\n",
       "          '라': 1,\n",
       "          '라고': 1,\n",
       "          '라도': 1,\n",
       "          '략': 4,\n",
       "          '령': 1,\n",
       "          '로': 13,\n",
       "          '로서': 1,\n",
       "          '를': 18,\n",
       "          '만': 19,\n",
       "          '만들': 1,\n",
       "          '만원': 3,\n",
       "          '많은': 1,\n",
       "          '말한': 2,\n",
       "          '며': 1,\n",
       "          '면': 4,\n",
       "          '명': 5,\n",
       "          '모': 1,\n",
       "          '모델': 1,\n",
       "          '무': 1,\n",
       "          '문': 1,\n",
       "          '문대비': 1,\n",
       "          '문제': 1,\n",
       "          '므': 1,\n",
       "          '미': 3,\n",
       "          '미만': 2,\n",
       "          '및': 4,\n",
       "          '바탕': 2,\n",
       "          '박영아': 1,\n",
       "          '받는': 7,\n",
       "          '받던': 1,\n",
       "          '발': 1,\n",
       "          '발생': 3,\n",
       "          '발생하는': 4,\n",
       "          '발생하지': 3,\n",
       "          '발생한': 9,\n",
       "          '발의': 2,\n",
       "          '배': 1,\n",
       "          '번': 1,\n",
       "          '법': 4,\n",
       "          '법령': 2,\n",
       "          '법률': 7,\n",
       "          '법안': 1,\n",
       "          '변수': 1,\n",
       "          '보기': 1,\n",
       "          '보다': 2,\n",
       "          '보살핌': 1,\n",
       "          '보여': 2,\n",
       "          '보인': 2,\n",
       "          '보자': 1,\n",
       "          '볼': 1,\n",
       "          '부': 1,\n",
       "          '부모': 1,\n",
       "          '부모님': 1,\n",
       "          '부터': 2,\n",
       "          '분석관': 1,\n",
       "          '비': 1,\n",
       "          '비례': 1,\n",
       "          '비용': 17,\n",
       "          '사': 1,\n",
       "          '사랑': 1,\n",
       "          '사유': 3,\n",
       "          '사정': 1,\n",
       "          '상향': 1,\n",
       "          '생': 4,\n",
       "          '서': 3,\n",
       "          '세': 16,\n",
       "          '세로': 1,\n",
       "          '세이': 1,\n",
       "          '소요': 3,\n",
       "          '수': 7,\n",
       "          '수가': 1,\n",
       "          '수급': 2,\n",
       "          '수리': 1,\n",
       "          '수반': 1,\n",
       "          '수식': 5,\n",
       "          '순': 1,\n",
       "          '시키는': 1,\n",
       "          '시행': 2,\n",
       "          '신': 1,\n",
       "          '신청': 2,\n",
       "          '신청할': 1,\n",
       "          '실제': 1,\n",
       "          '아': 2,\n",
       "          '안': 6,\n",
       "          '안규백': 1,\n",
       "          '않': 4,\n",
       "          '않는': 2,\n",
       "          '않은': 1,\n",
       "          '알아보기': 2,\n",
       "          '액': 17,\n",
       "          '야': 2,\n",
       "          '양립': 1,\n",
       "          '양육': 2,\n",
       "          '어': 1,\n",
       "          '어느': 1,\n",
       "          '억원': 2,\n",
       "          '없으': 1,\n",
       "          '에': 24,\n",
       "          '에게': 7,\n",
       "          '에는': 4,\n",
       "          '에도': 2,\n",
       "          '에서': 11,\n",
       "          '에서는': 1,\n",
       "          '여': 12,\n",
       "          '여가': 1,\n",
       "          '여기': 1,\n",
       "          '여배': 1,\n",
       "          '여부': 2,\n",
       "          '여상규': 1,\n",
       "          '여의': 1,\n",
       "          '여자': 1,\n",
       "          '연': 2,\n",
       "          '연감': 1,\n",
       "          '연령': 8,\n",
       "          '연월일': 1,\n",
       "          '연장': 1,\n",
       "          '예산': 1,\n",
       "          '예상': 1,\n",
       "          '예상되는': 1,\n",
       "          '예상된': 3,\n",
       "          '예상됨': 1,\n",
       "          '예정': 1,\n",
       "          '와': 4,\n",
       "          '완': 1,\n",
       "          '요인': 1,\n",
       "          '용': 1,\n",
       "          '원': 3,\n",
       "          '원하면': 1,\n",
       "          '월': 8,\n",
       "          '월급': 9,\n",
       "          '위': 5,\n",
       "          '위하': 1,\n",
       "          '위하여': 2,\n",
       "          '위해서': 1,\n",
       "          '육': 2,\n",
       "          '육아': 1,\n",
       "          '육아휴직': 38,\n",
       "          '율': 1,\n",
       "          '으로': 7,\n",
       "          '은': 12,\n",
       "          '을': 34,\n",
       "          '음': 4,\n",
       "          '의': 46,\n",
       "          '의안': 1,\n",
       "          '의욕': 1,\n",
       "          '의원': 2,\n",
       "          '이': 26,\n",
       "          '이고': 1,\n",
       "          '이기': 1,\n",
       "          '이나': 2,\n",
       "          '이는': 1,\n",
       "          '이다': 2,\n",
       "          '이러한': 1,\n",
       "          '이며': 1,\n",
       "          '이명수': 1,\n",
       "          '이사철': 1,\n",
       "          '이상': 5,\n",
       "          '이어질': 1,\n",
       "          '이용': 1,\n",
       "          '이유': 1,\n",
       "          '이하': 18,\n",
       "          '인': 5,\n",
       "          '인건비': 2,\n",
       "          '인데': 1,\n",
       "          '인력': 13,\n",
       "          '인원': 1,\n",
       "          '일': 1,\n",
       "          '일반': 1,\n",
       "          '일부': 4,\n",
       "          '일용직': 1,\n",
       "          '일자리': 1,\n",
       "          '임금': 1,\n",
       "          '임신': 1,\n",
       "          '임용': 2,\n",
       "          '있': 1,\n",
       "          '있는': 2,\n",
       "          '있다': 3,\n",
       "          '있어': 1,\n",
       "          '있으': 1,\n",
       "          '자': 24,\n",
       "          '자녀': 14,\n",
       "          '자는': 1,\n",
       "          '자료': 6,\n",
       "          '작성': 1,\n",
       "          '작성자': 1,\n",
       "          '작성하면': 1,\n",
       "          '장': 1,\n",
       "          '재정': 4,\n",
       "          '저하': 1,\n",
       "          '저학년': 2,\n",
       "          '적': 1,\n",
       "          '전': 2,\n",
       "          '정': 3,\n",
       "          '정도': 1,\n",
       "          '정리하면': 1,\n",
       "          '정의': 1,\n",
       "          '정의화': 2,\n",
       "          '정확하게': 1,\n",
       "          '제': 13,\n",
       "          '제안': 1,\n",
       "          '조': 3,\n",
       "          '조정함': 2,\n",
       "          '조제': 7,\n",
       "          '종': 1,\n",
       "          '주': 2,\n",
       "          '주로': 1,\n",
       "          '주요': 1,\n",
       "          '주지': 2,\n",
       "          '중': 6,\n",
       "          '중인': 2,\n",
       "          '지': 2,\n",
       "          '지급': 3,\n",
       "          '지급하는': 2,\n",
       "          '지급하던': 2,\n",
       "          '지급해야': 2,\n",
       "          '지방': 5,\n",
       "          '지방공무원법': 4,\n",
       "          '지원': 1,\n",
       "          '직': 2,\n",
       "          '차': 1,\n",
       "          '차이': 1,\n",
       "          '채용': 1,\n",
       "          '첨부': 3,\n",
       "          '초등학교': 6,\n",
       "          '총': 1,\n",
       "          '추가': 8,\n",
       "          '추계': 4,\n",
       "          '추정': 1,\n",
       "          '추진': 1,\n",
       "          '출산': 2,\n",
       "          '취': 1,\n",
       "          '취학': 3,\n",
       "          '칙': 1,\n",
       "          '크': 2,\n",
       "          '태': 1,\n",
       "          '통계': 2,\n",
       "          '특별한': 1,\n",
       "          '팀': 2,\n",
       "          '평균': 2,\n",
       "          '평등': 1,\n",
       "          '표': 5,\n",
       "          '필요': 1,\n",
       "          '필요하거': 1,\n",
       "          '하': 1,\n",
       "          '하게': 1,\n",
       "          '하고': 5,\n",
       "          '하기': 2,\n",
       "          '하나': 1,\n",
       "          '하는': 1,\n",
       "          '하더': 2,\n",
       "          '하려': 1,\n",
       "          '하면': 1,\n",
       "          '하여': 5,\n",
       "          '하자': 1,\n",
       "          '하지': 1,\n",
       "          '학': 1,\n",
       "          '학년': 2,\n",
       "          '한': 12,\n",
       "          '한시': 1,\n",
       "          '할': 5,\n",
       "          '항': 3,\n",
       "          '항제': 4,\n",
       "          '해당': 1,\n",
       "          '해당하는': 1,\n",
       "          '해당한': 1,\n",
       "          '해당함': 1,\n",
       "          '행': 1,\n",
       "          '행정안전부': 2,\n",
       "          '현': 1,\n",
       "          '현재': 3,\n",
       "          '현행': 4,\n",
       "          '현행법': 1,\n",
       "          '현황': 3,\n",
       "          '호': 8,\n",
       "          '호의': 1,\n",
       "          '확대': 1,\n",
       "          '확대됨': 1,\n",
       "          '확률': 5,\n",
       "          '활용하는': 1,\n",
       "          '황영철': 1,\n",
       "          '휴': 2,\n",
       "          '휴직': 6,\n",
       "          '힘들': 1,\n",
       "          '｢': 5,\n",
       "          '｣': 5})"
      ]
     },
     "execution_count": 5,
     "metadata": {},
     "output_type": "execute_result"
    }
   ],
   "source": [
    "print(len(ko.tokens))       # returns number of tokens (document length)\n",
    "print(len(set(ko.tokens)))  # returns number of unique tokens\n",
    "ko.vocab()                  # returns frequency distribution"
   ]
  },
  {
   "cell_type": "code",
   "execution_count": 53,
   "metadata": {
    "collapsed": true,
    "hidden": true
   },
   "outputs": [],
   "source": [
    "# import plot libraries\n",
    "import matplotlib.pyplot as plt\n",
    "%matplotlib inline\n",
    "import seaborn as sns; sns.set(style=\"white\")\n",
    "import matplotlib\n",
    "\n",
    "matplotlib.rc(\"font\", family=\"NanumBarunGothic\")"
   ]
  },
  {
   "cell_type": "code",
   "execution_count": 54,
   "metadata": {
    "collapsed": false,
    "hidden": true
   },
   "outputs": [
    {
     "data": {
      "image/png": "[encoded data removed]",
      "text/plain": [
       "<matplotlib.figure.Figure at 0x7fb34862bd30>"
      ]
     },
     "metadata": {},
     "output_type": "display_data"
    }
   ],
   "source": [
    "ko.plot(50)     # Plot sorted frequency of top 50 tokens"
   ]
  },
  {
   "cell_type": "code",
   "execution_count": 7,
   "metadata": {
    "collapsed": false,
    "hidden": true
   },
   "outputs": [
    {
     "data": {
      "text/plain": [
       "6"
      ]
     },
     "execution_count": 7,
     "metadata": {},
     "output_type": "execute_result"
    }
   ],
   "source": [
    "ko.count(\"초등학교\")   # Counts occurrences"
   ]
  },
  {
   "cell_type": "code",
   "execution_count": 55,
   "metadata": {
    "collapsed": false,
    "hidden": true
   },
   "outputs": [
    {
     "data": {
      "image/png": "[encoded data removed]",
      "text/plain": [
       "<matplotlib.figure.Figure at 0x7fb3472e5b70>"
      ]
     },
     "metadata": {},
     "output_type": "display_data"
    }
   ],
   "source": [
    "ko.dispersion_plot([\"육아휴직\", \"초등학교\", \"공무원\"]) # bug?"
   ]
  },
  {
   "cell_type": "code",
   "execution_count": 12,
   "metadata": {
    "collapsed": false,
    "hidden": true
   },
   "outputs": [
    {
     "name": "stdout",
     "output_type": "stream",
     "text": [
      "Displaying 6 of 6 matches:\n",
      " ․ 김정훈 김학송 의원 ( 10 인 ) 제안 이유 및 주요 내용 초등학교 저학년 의 경우 에도 부모 의 따뜻한 사랑 과 보살핌 이 필요 한\n",
      " 을 할 수 있는 자녀 의 나이 는 만 6 세 이하 로 되어 있어 초등학교 저학년 인 자녀 를 돌보기 위해서 는 해당 부모님 은 일자리 를 \n",
      " 다 . 제 63 조제 2 항제 4 호 중 “ 만 6 세 이하 의 초등학교 취학 전 자녀 를 ” 을 “ 만 8 세 이하 ( 취학 중인 경우 \n",
      " 전 자녀 를 ” 을 “ 만 8 세 이하 ( 취학 중인 경우 에는 초등학교 2 학년 이하 를 말한 다 ) 의 자녀 를 ” 로 한 다 . 부 \n",
      " . ∼ 3 . ( 현행 과 같 음 ) 4 . 만 6 세 이하 의 초등학교 취 4 . 만 8 세 이하 ( 취학 중인 경우 학 전 자녀 를 양\n",
      "세 이하 ( 취학 중인 경우 학 전 자녀 를 양육 하기 위하 에는 초등학교 2 학년 이하 를 여 필요하거 나 여자 공무원 이 말한 다 ) 의\n"
     ]
    }
   ],
   "source": [
    "ko.concordance(\"초등학교\")"
   ]
  },
  {
   "cell_type": "code",
   "execution_count": 13,
   "metadata": {
    "collapsed": false,
    "hidden": true
   },
   "outputs": [
    {
     "name": "stdout",
     "output_type": "stream",
     "text": [
      "논의\n"
     ]
    }
   ],
   "source": [
    "ko.similar(\"자녀\")"
   ]
  },
  {
   "cell_type": "code",
   "execution_count": 14,
   "metadata": {
    "collapsed": false,
    "hidden": true
   },
   "outputs": [
    {
     "name": "stdout",
     "output_type": "stream",
     "text": [
      "\n"
     ]
    }
   ],
   "source": [
    "ko.similar(\"육아휴직\")"
   ]
  },
  {
   "cell_type": "code",
   "execution_count": 16,
   "metadata": {
    "collapsed": false,
    "hidden": true
   },
   "outputs": [
    {
     "name": "stdout",
     "output_type": "stream",
     "text": [
      "초등학교 저학년; 육아휴직 대상자\n"
     ]
    }
   ],
   "source": [
    "ko.collocations()"
   ]
  },
  {
   "cell_type": "markdown",
   "metadata": {
    "hidden": true
   },
   "source": [
    "## Tagging and chunking"
   ]
  },
  {
   "cell_type": "code",
   "execution_count": 18,
   "metadata": {
    "collapsed": false,
    "hidden": true
   },
   "outputs": [
    {
     "data": {
      "text/plain": [
       "[('작고', 'Noun'),\n",
       " ('노란', 'Adjective'),\n",
       " ('강아지', 'Noun'),\n",
       " ('가', 'Josa'),\n",
       " ('페르시안', 'Noun'),\n",
       " ('고양이', 'Noun'),\n",
       " ('에게', 'Josa'),\n",
       " ('짖었', 'Noun'),\n",
       " ('다', 'Josa')]"
      ]
     },
     "execution_count": 18,
     "metadata": {},
     "output_type": "execute_result"
    }
   ],
   "source": [
    "# POS tagging\n",
    "tags_ko = t.pos(\"작고 노란 강아지가 페르시안 고양이에게 짖었다\")\n",
    "tags_ko"
   ]
  },
  {
   "cell_type": "code",
   "execution_count": 24,
   "metadata": {
    "collapsed": false,
    "hidden": true
   },
   "outputs": [
    {
     "name": "stdout",
     "output_type": "stream",
     "text": [
      "(S\n",
      "  (NP 작고/Noun)\n",
      "  (NP 노란/Adjective 강아지/Noun)\n",
      "  가/Josa\n",
      "  (NP 페르시안/Noun 고양이/Noun)\n",
      "  에게/Josa\n",
      "  (NP 짖었/Noun)\n",
      "  다/Josa)\n"
     ]
    }
   ],
   "source": [
    "parser_ko = nltk.RegexpParser(\"NP: {<Adjective>*<Noun>*}\")\n",
    "chunks_ko = parser_ko.parse(tags_ko)\n",
    "chunks_ko.pprint()"
   ]
  },
  {
   "cell_type": "markdown",
   "metadata": {
    "hidden": true
   },
   "source": [
    "## Topic modeling"
   ]
  },
  {
   "cell_type": "markdown",
   "metadata": {
    "hidden": true
   },
   "source": [
    "### Preprocessing"
   ]
  },
  {
   "cell_type": "code",
   "execution_count": 25,
   "metadata": {
    "collapsed": true,
    "hidden": true
   },
   "outputs": [],
   "source": [
    "# Load documents\n",
    "docs_ko = [kobill.open(i).read() for i in kobill.fileids()]"
   ]
  },
  {
   "cell_type": "code",
   "execution_count": 26,
   "metadata": {
    "collapsed": false,
    "hidden": true
   },
   "outputs": [
    {
     "name": "stdout",
     "output_type": "stream",
     "text": [
      "['하도급/Noun', '거래/Noun', '공정/Noun', '화/Suffix', '에/Josa', '관/Noun', '하다/Verb', '법률/Noun', '일부/Noun', '개정/Noun', '법률/Noun', '안/Noun', '(/Punctuation', '유선호/Noun', '의원/Noun', '대표/Noun', '발의/Noun', ')/Punctuation', '의/Noun', '안/Noun', '번/Noun', '호/Noun', '9895/Number', '발의/Noun', '연월일/Noun', ':/Punctuation', '2010/Number', './Punctuation', '11/Number', './Punctuation', '15/Number', './Punctuation', '발/Noun', '의/Noun', '자/Noun', ':/Punctuation', '유선호/Noun', '․/Foreign', '강기갑/Noun', '․/Foreign', '김효석/Noun', '조승수/Noun', 'ㆍ/Foreign', '최문순/Noun', 'ㆍ/Foreign', '조영택/Noun', '문학진/Noun', 'ㆍ/Foreign', '백재현/Noun', 'ㆍ/Foreign', '송민순/Noun', '박은수/Noun', 'ㆍ/Foreign', '정동영/Noun', 'ㆍ/Foreign', '김춘진/Noun', '김재윤/Noun', 'ㆍ/Foreign', '우윤근/Noun', 'ㆍ/Foreign', '이성남/Noun', '이종걸/Noun', '의원/Noun', '(/Punctuation', '16/Number', '인/Noun', ')/Punctuation', '제안/Noun', '이유/Noun', '및/Noun', '주요/Noun', '내용/Noun', '원/Noun', '․/Foreign', '수급/Noun', '사업자/Noun', '사이/Noun', '의/Josa', '하도급/Noun', '거래/Noun', '는/Josa', '외형/Noun', '적/Suffix', '으로/Josa', '공정/Noun', '한/Josa', '계약/Noun', '을/Josa', '체/Noun', '결/Noun', '하다/Verb', '교섭/Noun', '력/Suffix', '에서/Josa', '절대/Noun', '우위/Noun', '에/Josa', '있다/Adjective', '원사/Noun', '업자/Noun', '에/Josa', '의/Noun', '하다/Verb', '불공정/Noun', '한/Josa', '행위/Noun', '의/Josa', '가능성/Noun', '은/Josa', '여전하다/Adjective', '상존/Noun', '하고/Josa', '있다/Adjective', './Punctuation', '또한/Noun', '수급/Noun', '사업자/Noun', '는/Josa', '원사/Noun', '업자/Noun', '의/Noun', '부당행위/Noun', '에/Josa', '의/Noun', '하다/Verb', '손해/Noun', '를/Josa', '입다/Verb', '되다/Verb', '경우/Noun', '에도/Josa', '입증/Noun', '의/Josa', '부담/Noun', '을/Josa', '안기다/Verb', '때문/Noun', '에/Josa', '민사소송/Noun', '에/Josa', '의/Noun', '하다/Verb', '피해/Noun', '구제/Noun', '도/Josa', '쉬다/Verb', '않다/Verb', '실정/Noun', '임/Noun', './Punctuation', '이/Noun', '에/Josa', '서면/Noun', '에/Josa', '의/Noun', '하다/Verb', '계약/Noun', '을/Josa', '따르다/Verb', '않다/Verb', '경우/Noun', '벌금/Noun', '에/Josa', '처/Noun', '하다/Verb', '하다/Verb', ',/Punctuation', '손해배상/Noun', '에/Josa', '있다/Adjective', '입증책임/Noun', '을/Josa', '원사/Noun', '업자/Noun', '에게/Josa', '전환/Noun', '시키다/Verb', ',/Punctuation', '법원/Noun', '이/Josa', '추정/Noun', '에/Josa', '의/Noun', '하다/Verb', '손해/Noun', '액/Noun', '의/Josa', '인정/Noun', '을/Josa', '하다/Verb', '수/Noun', '있다/Adjective', '하다/Verb', '수급/Noun', '사업자/Noun', '가/Josa', '소송/Noun', '을/Josa', '용의/Noun', '-/Punctuation', '1/Number', '-/Punctuation', '-/Punctuation', '2/Number', '-/Punctuation', '하다/Verb', '진행/Noun', '하다/Verb', '수/Noun', '있다/Adjective', '함/Noun', '으로써/Josa', '비/Noun', '대칭/Noun', '적/Suffix', '인/Josa', '교섭/Noun', '력/Suffix', '과/Josa', '정보/Noun', '력/Suffix', '의/Josa', '차이/Noun', '를/Noun', '보완/Noun', '하다/Verb', ',/Punctuation', '나아가다/Verb', '공정/Noun', '한/Josa', '하도급/Noun', '거래/Noun', '질서/Noun', '가/Josa', '유지/Noun', '․/Foreign', '발전/Noun', '되다/Verb', '것임/Noun', '(/Punctuation', '안/Noun', '제/Noun', '35/Number', '조/Noun', '및/Noun', '제/Noun', '36/Number', '조/Noun', '신설/Noun', ')./Punctuation', '법률/Noun', '제/Noun', '호/Noun', '하도급/Noun', '거래/Noun', '공정/Noun', '화/Suffix', '에/Josa', '관/Noun', '하다/Verb', '법률/Noun', '일부/Noun', '개정/Noun', '법률/Noun', '안/Noun', '하도급/Noun', '거래/Noun', '공정/Noun', '화/Suffix', '에/Josa', '관/Noun', '하다/Verb', '법률/Noun', '일부/Noun', '를/Josa', '다음/Noun', '과/Josa', '같이/Josa', '개정/Noun', '하다/Verb', './Punctuation', '제/Noun', '30/Number', '조제/Noun', '2/Number', '항제/Noun', '1/Number', '호/Noun', '및/Noun', '제/Noun', '2/Number', '호/Noun', '를/Josa', '각각/Noun', '제/Noun', '2/Number', '호/Noun', '및/Noun', '제/Noun', '3/Number', '호로/Noun', '하다/Verb', ',/Punctuation', '같다/Adjective', '항/Noun', '에/Josa', '제/Noun', '1/Number', '호/Noun', '를/Josa', '다음/Noun', '과/Josa', '같이/Josa', '신설/Noun', '하다/Verb', './Punctuation', '1/Number', './Punctuation', '제/Noun', '3/Number', '조제/Noun', '1/Number', '항/Noun', '부터/Josa', '제/Noun', '4/Number', '항/Noun', '까지/Josa', '및/Noun', '제/Noun', '9/Number', '항/Noun', '을/Josa', '위반/Noun', '하다/Verb', '자/Noun', '제/Noun', '35/Number', '조/Noun', '및/Noun', '제/Noun', '36/Number', '조르다/Verb', '각각/Noun', '다음/Noun', '과/Josa', '같이/Josa', '신설/Noun', '하다/Verb', './Punctuation', '제/Noun', '35/Number', '조/Noun', '(/Punctuation', '손해배상/Noun', '책임/Noun', ')/Punctuation', '원사/Noun', '업자/Noun', '가/Josa', '이/Noun', '법/Noun', '을/Josa', '위반/Noun', '하다/Verb', '손해/Noun', '를/Josa', '입다/Verb', '자가/Noun', '있다/Adjective', '경우/Noun', '에는/Josa', '그/Noun', '자의/Noun', '손해/Noun', '에/Josa', '대하다/Verb', '해당/Noun', '원사/Noun', '업자/Noun', '는/Josa', '배상/Noun', '책임/Noun', '을/Josa', '진/Noun', '다/Josa', './Punctuation', '다만/Noun', ',/Punctuation', '해당/Noun', '원사/Noun', '업자/Noun', '가/Josa', '고의/Noun', '또는/Adverb', '과실/Noun', '이/Josa', '없다/Adjective', '음/Noun', '을/Josa', '입증/Noun', '하다/Verb', '경우/Noun', '에는/Josa', '그러하다/Adjective', '아니다/Adjective', './Punctuation', '제/Noun', '36/Number', '조/Noun', '(/Punctuation', '손해/Noun', '액/Noun', '의/Josa', '인정/Noun', ')/Punctuation', '법원/Noun', '은/Josa', '이/Noun', '법/Noun', '을/Josa', '위반/Noun', '하다/Verb', '행위/Noun', '로/Josa', '인/Noun', '하다/Verb', '손해/Noun', '가/Josa', '발생/Noun', '하다/Verb', '사실/Noun', '은/Josa', '인정/Noun', '되다/Verb', '손해/Noun', '액/Noun', '의/Josa', '구체/Noun', '적/Suffix', '인/Josa', '금액/Noun', '을/Josa', '산정/Noun', '하다/Verb', '곤란/Noun', '하다/Verb', '경우/Noun', '에는/Josa', '변론/Noun', '의/Josa', '취지/Noun', '와/Josa', '증거조사/Noun', '의/Josa', '결과/Noun', '를/Josa', '고려/Noun', '하다/Verb', '그/Noun', '에/Josa', '상당/Noun', '하다/Verb', '손해/Noun', '액/Noun', '을/Josa', '인정/Noun', '하다/Verb', '수/Noun', '있다/Adjective', './Punctuation', '-/Punctuation', '3/Number', '-/Punctuation', '-/Punctuation', '4/Number', '-/Punctuation', '부/Noun', '칙/Noun', '①/Foreign', '(/Punctuation', '시행일/Noun', ')/Punctuation', '이/Noun', '법/Noun', '은/Josa', '공포/Noun', '한/Josa', '날/Noun', '부터/Josa', '시행/Noun', '하다/Verb', './Punctuation', '②/Foreign', '(/Punctuation', '적/Noun', '용례/Noun', ')/Punctuation', '제/Noun', '30/Number', '조제/Noun', '2/Number', '항제/Noun', '1/Number', '호/Noun', ',/Punctuation', '제/Noun', '35/Number', '조/Noun', '및/Noun', '제/Noun', '36/Number', '조의/Noun', '개정/Noun', '규정/Noun', '은/Josa', '이/Noun', '법/Noun', '시행/Noun', '후/Noun', '최초/Noun', '로/Josa', '체결/Noun', '하다/Verb', '하도급/Noun', '계약/Noun', '부터/Josa', '적용/Noun', '하다/Verb', './Punctuation', '신/Noun', '·/Foreign', '구조/Noun', '문대비/Noun', '표/Noun', '현/Noun', '행/Noun', '개/Noun', '정/Noun', '안/Noun', '제/Noun', '30/Number', '조/Noun', '(/Punctuation', '벌칙/Noun', ')/Punctuation', '①/Foreign', '(/Punctuation', '생/Noun', '략/Noun', ')/Punctuation', '제/Noun', '30/Number', '조/Noun', '(/Punctuation', '벌칙/Noun', ')/Punctuation', '①/Foreign', '(/Punctuation', '현행/Noun', '과/Josa', '같다/Adjective', ')/Punctuation', '②/Foreign', '다음/Noun', '각/Noun', '호의/Noun', '어느/Adverb', '하나/Noun', '에/Josa', '②/Foreign', '-------------------------/Punctuation', '해당/Noun', '하다/Verb', '자다/Verb', '1/Number', '억/Noun', '5/Number', '천만원/Noun', '이/Noun', '----------------------------/Punctuation', '하의/Noun', '벌금/Noun', '에/Josa', '처/Noun', '하다/Verb', './Punctuation', '------------------./Punctuation', '</Punctuation', '신/Noun', '설/Noun', '>/Punctuation', '1/Number', './Punctuation', '제/Noun', '3/Number', '조제/Noun', '1/Number', '항/Noun', '부터/Josa', '제/Noun', '4/Number', '항/Noun', '까지/Josa', '1/Number', './Punctuation', '⋅/Foreign', '2/Number', './Punctuation', '(/Punctuation', '생/Noun', '략/Noun', ')/Punctuation', '2/Number', './Punctuation', '⋅/Foreign', '3/Number', './Punctuation', '(/Punctuation', '현행/Noun', '제/Noun', '1/Number', '호/Noun', '및/Noun', '제/Noun', '2/Number', '호/Noun', '와/Josa', '및/Noun', '제/Noun', '9/Number', '항/Noun', '을/Josa', '위반/Noun', '하다/Verb', '자/Noun', '③/Foreign', '(/Punctuation', '생/Noun', '략/Noun', ')/Punctuation', '</Punctuation', '신/Noun', '설/Noun', '>/Punctuation', '같다/Adjective', ')/Punctuation', '③/Foreign', '(/Punctuation', '현행/Noun', '과/Josa', '같다/Adjective', ')/Punctuation', '제/Noun', '35/Number', '조/Noun', '(/Punctuation', '손해배상/Noun', '책임/Noun', ')/Punctuation', '원사/Noun', '업자/Noun', '가/Josa', '이/Noun', '법/Noun', '을/Josa', '위반/Noun', '하다/Verb', '손해/Noun', '를/Josa', '입다/Verb', '자가/Noun', '있다/Adjective', '경우/Noun', '에는/Josa', '그/Noun', '자의/Noun', '손해/Noun', '에/Josa', '대하다/Verb', '해당/Noun', '원사/Noun', '업자/Noun', '는/Josa', '배상/Noun', '책임/Noun', '을/Josa', '진/Noun', '다/Josa', './Punctuation', '다만/Noun', ',/Punctuation', '해당/Noun', '원사/Noun', '업자/Noun', '가/Josa', '고의/Noun', '또는/Adverb', '과/Noun', '실/Noun', '이/Josa', '없다/Adjective', '음/Noun', '을/Josa', '입증/Noun', '한/Josa', '경우/Noun', '에는/Josa', '그러하다/Adjective', '아니다/Adjective', './Punctuation', '</Punctuation', '신/Noun', '설/Noun', '>/Punctuation', '제/Noun', '36/Number', '조/Noun', '(/Punctuation', '손해/Noun', '액/Noun', '의/Josa', '인정/Noun', ')/Punctuation', '법원/Noun', '은/Josa', '이/Noun', '법/Noun', '을/Josa', '위반/Noun', '하다/Verb', '행위/Noun', '로/Josa', '인/Noun', '하다/Verb', '손/Noun', '해/Noun', '가/Josa', '발생/Noun', '하다/Verb', '사실/Noun', '은/Josa', '인정/Noun', '되다/Verb', '손해/Noun', '액/Noun', '의/Josa', '구체/Noun', '적/Suffix', '인/Josa', '금액/Noun', '을/Josa', '산/Noun', '정/Noun', '하다/Verb', '곤란하다/Adjective', '경우/Noun', '에는/Josa', '변론/Noun', '의/Noun', '취지/Noun', '와/Josa', '증거조사/Noun', '의/Josa', '결과/Noun', '를/Josa', '-/Punctuation', '5/Number', '-/Punctuation', '-/Punctuation', '6/Number', '-/Punctuation', '고려/Noun', '하다/Verb', '그/Noun', '에/Josa', '상당하다/Adjective', '손해/Noun', '액/Noun', '을/Josa', '인정/Noun', '하다/Verb', '수/Noun', '있다/Adjective', './Punctuation']\n"
     ]
    }
   ],
   "source": [
    "# Tokenize\n",
    "pos = lambda d: [\"/\".join(p) for p in t.pos(d, stem=True, norm=True)]\n",
    "texts_ko = [pos(doc) for doc in docs_ko]\n",
    "print(texts_ko[0])"
   ]
  },
  {
   "cell_type": "code",
   "execution_count": 27,
   "metadata": {
    "collapsed": true,
    "hidden": true
   },
   "outputs": [],
   "source": [
    "import os\n",
    "\n",
    "intermediate_path = os.path.join(\"..\", \"intermediate\")"
   ]
  },
  {
   "cell_type": "code",
   "execution_count": 31,
   "metadata": {
    "collapsed": true,
    "hidden": true
   },
   "outputs": [],
   "source": [
    "# Encode tokens to integers\n",
    "from gensim import corpora\n",
    "dictionary_ko = corpora.Dictionary(texts_ko)\n",
    "ko_dict_filepath = os.path.join(intermediate_path, \"ko.dict\")\n",
    "dictionary_ko.save(ko_dict_filepath)  # save dictionary to file for future use"
   ]
  },
  {
   "cell_type": "code",
   "execution_count": 32,
   "metadata": {
    "collapsed": false,
    "hidden": true
   },
   "outputs": [
    {
     "name": "stdout",
     "output_type": "stream",
     "text": [
      "[(0, 8), (1, 3), (2, 44), (3, 4), (4, 1), (5, 1), (6, 1), (7, 2), (8, 6), (9, 3)]\n",
      "[(2, 44), (204, 27), (11, 23), (32, 20), (175, 20), (237, 17), (35, 16), (31, 13), (55, 12), (68, 12)]\n",
      "휴직/Noun\n"
     ]
    }
   ],
   "source": [
    "# Calculate TF-IDF\n",
    "from gensim import models\n",
    "tf_ko = [dictionary_ko.doc2bow(text) for text in texts_ko]\n",
    "tfidf_model_ko = models.TfidfModel(tf_ko)\n",
    "tfidf_ko = tfidf_model_ko[tf_ko]\n",
    "ko_mm_filepath = os.path.join(intermediate_path, \"ko.mm\")\n",
    "# save corpus to file for future use\n",
    "corpora.MmCorpus.serialize(ko_mm_filepath, tfidf_ko)\n",
    "\n",
    "# print first 10 elements of first document's tf-idf vector\n",
    "print(tfidf_ko.corpus[0][:10])\n",
    "# print top 10 elements of first document's tf-idf vector\n",
    "print(sorted(tfidf_ko.corpus[0], key=lambda x: x[1], reverse=True)[:10])\n",
    "# print token of most frequent element\n",
    "print(dictionary_ko.get(414))"
   ]
  },
  {
   "cell_type": "markdown",
   "metadata": {
    "hidden": true
   },
   "source": [
    "### Train topic models"
   ]
  },
  {
   "cell_type": "code",
   "execution_count": 34,
   "metadata": {
    "collapsed": false,
    "hidden": true
   },
   "outputs": [
    {
     "name": "stdout",
     "output_type": "stream",
     "text": [
      "[(0, '0.518*\"육아휴직/Noun\" + 0.257*\"만/Noun\" + 0.227*\"×/Foreign\" + 0.214*\"대체/Noun\" + 0.201*\"고용/Noun\"'), (1, '0.449*\"파견/Noun\" + 0.412*\"부대/Noun\" + 0.267*\"UAE/Alpha\" + 0.243*\"○/Foreign\" + 0.192*\"국군/Noun\"'), (2, '0.326*\"결혼/Noun\" + 0.315*\"예고/Noun\" + 0.285*\"손해/Noun\" + 0.205*\"ㆍ/Foreign\" + 0.197*\"원사/Noun\"')]\n"
     ]
    }
   ],
   "source": [
    "# LSI\n",
    "ntopics, nwords = 3, 5\n",
    "lsi_ko = models.lsimodel.LsiModel(tfidf_ko, id2word=dictionary_ko,\n",
    "                                  num_topics=ntopics)\n",
    "print(lsi_ko.print_topics(num_topics=ntopics, num_words=nwords))"
   ]
  },
  {
   "cell_type": "code",
   "execution_count": 35,
   "metadata": {
    "collapsed": false,
    "hidden": true
   },
   "outputs": [
    {
     "name": "stdout",
     "output_type": "stream",
     "text": [
      "[(0, '0.002*\"결혼/Noun\" + 0.002*\"학위/Noun\" + 0.001*\"육아휴직/Noun\" + 0.001*\"간호/Noun\" + 0.001*\"중개업/Noun\"'), (1, '0.003*\"육아휴직/Noun\" + 0.002*\"×/Foreign\" + 0.002*\"예고/Noun\" + 0.002*\"만/Noun\" + 0.002*\"대체/Noun\"'), (2, '0.001*\"파견/Noun\" + 0.001*\"육아휴직/Noun\" + 0.001*\"부대/Noun\" + 0.001*\"UAE/Alpha\" + 0.001*\"만/Noun\"')]\n"
     ]
    }
   ],
   "source": [
    "# LDA\n",
    "import numpy as np; np.random.seed(42)  # optional\n",
    "lda_ko = models.ldamodel.LdaModel(tfidf_ko, id2word=dictionary_ko,\n",
    "                                  num_topics=ntopics)\n",
    "print(lda_ko.print_topics(num_topics=ntopics, num_words=nwords))"
   ]
  },
  {
   "cell_type": "code",
   "execution_count": 49,
   "metadata": {
    "collapsed": false,
    "hidden": true
   },
   "outputs": [
    {
     "name": "stdout",
     "output_type": "stream",
     "text": [
      "[(0, '0.006*선진/Noun + 0.005*근무/Noun + 0.005*조제/Noun + 0.004*작/Noun + 0.004*특/Noun'), (1, '0.005*사실/Noun + 0.004*때문/Noun + 0.004*혼자/Noun + 0.004*배/Noun + 0.004*합의/Noun'), (2, '0.005*백성운/Noun + 0.004*중대하다/Adjective + 0.004*에서/Noun + 0.004*보증/Noun + 0.004*등록/Noun')]\n"
     ]
    }
   ],
   "source": [
    "# HDP\n",
    "hdp_ko = models.hdpmodel.HdpModel(tfidf_ko, id2word=dictionary_ko)\n",
    "print(hdp_ko.print_topics(num_topics=ntopics, num_words=nwords))"
   ]
  },
  {
   "cell_type": "code",
   "execution_count": 61,
   "metadata": {
    "collapsed": false,
    "hidden": true
   },
   "outputs": [
    {
     "name": "stdout",
     "output_type": "stream",
     "text": [
      "[(2, 0.61182879304796689), (0, 0.037507640580591452), (1, 0.033350900652715412)]\n",
      "[(1, 0.92003646242967652), (2, 0.040439584848832463), (0, 0.039523952721491055)]\n",
      "[(0, 0.50686504374310626), (2, 0.43560053036332824), (1, 0.018563227518726275), (3, 0.010020468671356681)]\n"
     ]
    }
   ],
   "source": [
    "bow = tfidf_model_ko[dictionary_ko.doc2bow(texts_ko[0])]\n",
    "print(sorted(lsi_ko[bow], key=lambda x: x[1], reverse=True))\n",
    "print(sorted(lda_ko[bow], key=lambda x: x[1], reverse=True))\n",
    "print(sorted(hdp_ko[bow], key=lambda x: x[1], reverse=True))"
   ]
  },
  {
   "cell_type": "code",
   "execution_count": 52,
   "metadata": {
    "collapsed": false,
    "hidden": true
   },
   "outputs": [
    {
     "name": "stdout",
     "output_type": "stream",
     "text": [
      "[(0, 0.97829017893328929), (1, -0.016909513239921629), (2, -0.020121561014425936)]\n",
      "[(1, 0.93609060093805785), (2, 0.032095087415082206), (0, 0.031814311646859821)]\n",
      "[(0, 0.94299103395162109), (1, 0.014839950577638945), (2, 0.010860774248301503)]\n"
     ]
    }
   ],
   "source": [
    "bow = tfidf_model_ko[dictionary_ko.doc2bow(texts_ko[1])]\n",
    "print(sorted(lsi_ko[bow], key=lambda x: x[1], reverse=True))\n",
    "print(sorted(lda_ko[bow], key=lambda x: x[1], reverse=True))\n",
    "print(sorted(hdp_ko[bow], key=lambda x: x[1], reverse=True))"
   ]
  },
  {
   "cell_type": "markdown",
   "metadata": {
    "hidden": true
   },
   "source": [
    "## Word embedding"
   ]
  },
  {
   "cell_type": "code",
   "execution_count": 67,
   "metadata": {
    "collapsed": true,
    "hidden": true
   },
   "outputs": [],
   "source": [
    "from konlpy.corpus import kobill\n",
    "docs_ko = [kobill.open(i).read() for i in kobill.fileids()]"
   ]
  },
  {
   "cell_type": "code",
   "execution_count": 68,
   "metadata": {
    "collapsed": true,
    "hidden": true
   },
   "outputs": [],
   "source": [
    "from konlpy.tag import Twitter; t = Twitter()\n",
    "pos = lambda d: [\"/\".join(p) for p in t.pos(d)]\n",
    "texts_ko = [pos(doc) for doc in docs_ko]"
   ]
  },
  {
   "cell_type": "code",
   "execution_count": 69,
   "metadata": {
    "collapsed": true,
    "hidden": true
   },
   "outputs": [],
   "source": [
    "from gensim.models import word2vec\n",
    "wv_model_ko = word2vec.Word2Vec(texts_ko)\n",
    "wv_model_ko.init_sims(replace=True)\n",
    "ko_word2vec_model_filepath = os.path.join(intermediate_path,\n",
    "                                          \"ko_word2vec.model\")\n",
    "wv_model_ko.save(ko_word2vec_model_filepath)"
   ]
  },
  {
   "cell_type": "code",
   "execution_count": 70,
   "metadata": {
    "collapsed": false,
    "hidden": true
   },
   "outputs": [
    {
     "data": {
      "text/plain": [
       "[('는/Josa', 0.9997020959854126),\n",
       " ('사항/Noun', 0.9996991157531738),\n",
       " (':/Punctuation', 0.9996943473815918),\n",
       " ('비용/Noun', 0.9996904730796814),\n",
       " ('파견/Noun', 0.9996902346611023),\n",
       " ('에/Josa', 0.9996888041496277),\n",
       " ('○/Foreign', 0.9996882081031799),\n",
       " ('부대/Noun', 0.999684751033783),\n",
       " ('으로/Josa', 0.9996784925460815),\n",
       " ('국민/Noun', 0.9996776580810547)]"
      ]
     },
     "execution_count": 70,
     "metadata": {},
     "output_type": "execute_result"
    }
   ],
   "source": [
    "wv_model_ko.most_similar(pos(\"정부\"))"
   ]
  },
  {
   "cell_type": "code",
   "execution_count": 71,
   "metadata": {
    "collapsed": false,
    "hidden": true
   },
   "outputs": [
    {
     "data": {
      "text/plain": [
       "[('에서/Josa', 0.9997745752334595),\n",
       " ('로/Josa', 0.9997711777687073),\n",
       " ('하는/Verb', 0.9997588992118835),\n",
       " ('년/Noun', 0.9997560381889343),\n",
       " ('경우/Noun', 0.9997530579566956),\n",
       " ('하고/Josa', 0.9997493028640747),\n",
       " ('을/Josa', 0.9997460842132568),\n",
       " ('이/Josa', 0.9997431635856628),\n",
       " ('｢/Foreign', 0.9997414946556091),\n",
       " ('에는/Josa', 0.9997392892837524)]"
      ]
     },
     "execution_count": 71,
     "metadata": {},
     "output_type": "execute_result"
    }
   ],
   "source": [
    "wv_model_ko.most_similar(pos(\"초등학교\")) # bug?"
   ]
  },
  {
   "cell_type": "markdown",
   "metadata": {},
   "source": [
    "# Sentiment analysis for Korean movie reviews"
   ]
  }
 ],
 "metadata": {
  "kernelspec": {
   "display_name": "Python [conda env:pydata]",
   "language": "python",
   "name": "conda-env-pydata-py"
  },
  "language_info": {
   "codemirror_mode": {
    "name": "ipython",
    "version": 3
   },
   "file_extension": ".py",
   "mimetype": "text/x-python",
   "name": "python",
   "nbconvert_exporter": "python",
   "pygments_lexer": "ipython3",
   "version": "3.5.2"
  }
 },
 "nbformat": 4,
 "nbformat_minor": 2
}
